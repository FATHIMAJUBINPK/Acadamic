{
 "cells": [
  {
   "cell_type": "markdown",
   "id": "2888356d",
   "metadata": {},
   "source": [
    "## PROGRAM 7 \n",
    "<pre>AIM:-LINEAR AND MULTIPLE REGRESSION \n",
    "QUESTION 1:- Program to implement linear regression technique using any \n",
    "standard dataset available in the public domain and evaluate its \n",
    "performance. \n",
    "2. Program to implement multiple regression technique using any \n",
    "standard dataset available in the public domain and evaluate its \n",
    "performance. "
   ]
  },
  {
   "cell_type": "markdown",
   "id": "b198d663",
   "metadata": {},
   "source": [
    "### CODE 1 "
   ]
  },
  {
   "cell_type": "code",
   "execution_count": 1,
   "id": "336e821a",
   "metadata": {},
   "outputs": [
    {
     "name": "stdout",
     "output_type": "stream",
     "text": [
      "Linear Regression MSE: 0.03711379440797688\n"
     ]
    }
   ],
   "source": [
    "import numpy as np \n",
    "import pandas as pd \n",
    "from sklearn.datasets import load_iris \n",
    "from sklearn.model_selection import train_test_split \n",
    "from sklearn.linear_model import LinearRegression \n",
    "from sklearn.metrics import mean_squared_error \n",
    "data = load_iris() \n",
    "X=data.data \n",
    "y=data.target \n",
    "X_train,X_test,y_train,y_test=train_test_split(X,y,test_size=0.2,random_state=42) \n",
    "#linear Regression \n",
    "lr_model=LinearRegression() \n",
    "lr_model.fit(X_train,y_train) \n",
    "lr_predictions=lr_model.predict(X_test) \n",
    "lr_mse=mean_squared_error(y_test,lr_predictions) \n",
    "#print the Mean Squared Error(MSE) for Linear Regression \n",
    "print(f'Linear Regression MSE: {lr_mse}') "
   ]
  },
  {
   "cell_type": "code",
   "execution_count": null,
   "id": "67ddbd68",
   "metadata": {},
   "outputs": [],
   "source": [
    "code 2 \n",
    "import numpy as np \n",
    "import pandas as pd \n",
    "from sklearn.datasets import load_iris \n",
    "from sklearn.model_selection import train_test_split \n",
    "from sklearn.linear_model import LinearRegression \n",
    "from sklearn.metrics import mean_squared_error \n",
    "data = load_iris() \n",
    "X=data.data[:,0].reshape(-1,1) \n",
    "y=data.target \n",
    "X_train,X_test,y_train,y_test=train_test_split(X,y,test_size=0.2,random_state=42) \n",
    "#Multiple linear Regression \n",
    "mlr_model=LinearRegression() \n",
    "mlr_model.fit(X_train,y_train) \n",
    "mlr_predictions=mlr_model.predict(X_test) \n",
    "mlr_mse=mean_squared_error(y_test,mlr_predictions) \n",
    "#print the Mean Squared Error(MSE) for Linear Regression \n",
    "print(f'Multiple Linear Regression MSE: {mlr_mse}') "
   ]
  }
 ],
 "metadata": {
  "kernelspec": {
   "display_name": "Python 3 (ipykernel)",
   "language": "python",
   "name": "python3"
  },
  "language_info": {
   "codemirror_mode": {
    "name": "ipython",
    "version": 3
   },
   "file_extension": ".py",
   "mimetype": "text/x-python",
   "name": "python",
   "nbconvert_exporter": "python",
   "pygments_lexer": "ipython3",
   "version": "3.9.7"
  }
 },
 "nbformat": 4,
 "nbformat_minor": 5
}
