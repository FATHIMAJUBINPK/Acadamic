{
 "cells": [
  {
   "cell_type": "markdown",
   "id": "4500a6e3",
   "metadata": {},
   "source": [
    "## PROGRAM 8 \n",
    "<pre>AIM:-SUPPORT VECTOR MACHINE \n",
    "QUESTION 1:- Program to implement text classification using Support vector \n",
    "machine "
   ]
  },
  {
   "cell_type": "markdown",
   "id": "d5b54c6d",
   "metadata": {},
   "source": [
    "### Code 1 "
   ]
  },
  {
   "cell_type": "code",
   "execution_count": 7,
   "id": "5e3cf22e",
   "metadata": {
    "scrolled": true
   },
   "outputs": [
    {
     "name": "stdout",
     "output_type": "stream",
     "text": [
      "Accuracy: 0.9736842105263158\n",
      "Precision (macro): 0.9666666666666667\n",
      "Recall (macro): 0.9791666666666666\n"
     ]
    }
   ],
   "source": [
    "import numpy as np \n",
    "from sklearn.datasets import load_iris \n",
    "from sklearn.model_selection import train_test_split \n",
    "from sklearn import svm \n",
    "from sklearn import metrics \n",
    "iris=load_iris() \n",
    "X,y=iris.data,iris.target \n",
    "X_train,X_test,y_train,y_test=train_test_split(X,y,test_size=0.25,random_state=0) \n",
    "clf = svm.SVC(kernel='linear')  \n",
    "clf.fit(X_train, y_train) \n",
    "y_pred = clf.predict(X_test) \n",
    "print(\"Accuracy:\",metrics.accuracy_score(y_test, y_pred)) \n",
    "print(\"Precision (macro):\", metrics.precision_score(y_test, y_pred, average='macro'))\n",
    "print(\"Recall (macro):\", metrics.recall_score(y_test, y_pred, average='macro'))\n"
   ]
  },
  {
   "cell_type": "code",
   "execution_count": 8,
   "id": "fca3fee7",
   "metadata": {},
   "outputs": [
    {
     "name": "stdout",
     "output_type": "stream",
     "text": [
      "Accuracy: 0.9736842105263158\n",
      "Precision: 0.9736842105263158\n",
      "Recall: 0.9736842105263158\n"
     ]
    },
    {
     "name": "stderr",
     "output_type": "stream",
     "text": [
      "C:\\ProgramData\\Anaconda3\\lib\\site-packages\\sklearn\\metrics\\_classification.py:1298: UserWarning: Note that pos_label (set to 'positive') is ignored when average != 'binary' (got 'micro'). You may use labels=[pos_label] to specify a single positive class.\n",
      "  warnings.warn(\"Note that pos_label (set to %r) is ignored when \"\n",
      "C:\\ProgramData\\Anaconda3\\lib\\site-packages\\sklearn\\metrics\\_classification.py:1298: UserWarning: Note that pos_label (set to 'positive') is ignored when average != 'binary' (got 'micro'). You may use labels=[pos_label] to specify a single positive class.\n",
      "  warnings.warn(\"Note that pos_label (set to %r) is ignored when \"\n"
     ]
    }
   ],
   "source": [
    "import numpy as np \n",
    "from sklearn.datasets import load_iris \n",
    "from sklearn.model_selection import train_test_split \n",
    "from sklearn import svm \n",
    "from sklearn import metrics \n",
    "iris=load_iris() \n",
    "X,y=iris.data,iris.target \n",
    "X_train,X_test,y_train,y_test=train_test_split(X,y,test_size=0.25,random_state=0) \n",
    "clf = svm.SVC(kernel='linear')  \n",
    "clf.fit(X_train, y_train) \n",
    "y_pred = clf.predict(X_test) \n",
    "print(\"Accuracy:\",metrics.accuracy_score(y_test, y_pred)) \n",
    "print(\"Precision:\",metrics.precision_score(y_test, y_pred,pos_label='positive',average='micro')) \n",
    "print(\"Recall:\",metrics.recall_score(y_test, y_pred,pos_label='positive',average='micro')) "
   ]
  },
  {
   "cell_type": "code",
   "execution_count": null,
   "id": "fa0a05c4",
   "metadata": {},
   "outputs": [],
   "source": []
  }
 ],
 "metadata": {
  "kernelspec": {
   "display_name": "Python 3 (ipykernel)",
   "language": "python",
   "name": "python3"
  },
  "language_info": {
   "codemirror_mode": {
    "name": "ipython",
    "version": 3
   },
   "file_extension": ".py",
   "mimetype": "text/x-python",
   "name": "python",
   "nbconvert_exporter": "python",
   "pygments_lexer": "ipython3",
   "version": "3.9.7"
  }
 },
 "nbformat": 4,
 "nbformat_minor": 5
}
