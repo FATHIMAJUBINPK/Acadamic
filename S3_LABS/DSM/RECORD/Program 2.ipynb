{
 "cells": [
  {
   "cell_type": "markdown",
   "id": "46a9273e",
   "metadata": {},
   "source": [
    "## PROGRAM-2 \n",
    "<pre>AIM:- Matrix operation . \n",
    "Question1:- Write a python program for matrix operation using vectorization. \n",
    "2. Matrix operation using  transformation using python and SVD using \n",
    "Python. </pre>"
   ]
  },
  {
   "cell_type": "markdown",
   "id": "3fdf22cb",
   "metadata": {},
   "source": [
    "### Code 1"
   ]
  },
  {
   "cell_type": "code",
   "execution_count": 2,
   "id": "ba2a8f02",
   "metadata": {},
   "outputs": [
    {
     "name": "stdout",
     "output_type": "stream",
     "text": [
      "Matrix Operation\n",
      "\n",
      "Matrix A:\n",
      " [[2 4]\n",
      " [6 3]]\n",
      "\n",
      "Matrix B:\n",
      " [[1 2]\n",
      " [3 5]]\n",
      "\n",
      "Addition:\n",
      " [[3 6]\n",
      " [9 8]]\n",
      "\n",
      "Substraction:\n",
      " [[ 1  2]\n",
      " [ 3 -2]]\n",
      "\n",
      "Multiplication (Element-wise):\n",
      " [[ 2  8]\n",
      " [18 15]]\n",
      "\n",
      "Multiplication (Row x Column):\n",
      " [[14 24]\n",
      " [15 27]]\n",
      "\n",
      "Transpose:\n",
      " [[2 6]\n",
      " [4 3]]\n"
     ]
    }
   ],
   "source": [
    "#matrix Operation \n",
    "import numpy as np \n",
    "print(\"Matrix Operation\") \n",
    "a=np.array([[2,4], \n",
    "[6,3]]) \n",
    "b=np.array([[1,2], \n",
    "[3,5]]) \n",
    "# Vectorized addition \n",
    "c=a+b \n",
    "d=a-b \n",
    "e=a*b \n",
    "f=np.dot(a,b) \n",
    "a_transpose=a.T \n",
    "print(\"\\nMatrix A:\\n\",a) \n",
    "print(\"\\nMatrix B:\\n\",b) \n",
    "print(\"\\nAddition:\\n\",c) \n",
    "print(\"\\nSubstraction:\\n\",d) \n",
    "print(\"\\nMultiplication (Element-wise):\\n\",e) \n",
    "print(\"\\nMultiplication (Row x Column):\\n\",f) \n",
    "print(\"\\nTranspose:\\n\",a_transpose) \n"
   ]
  },
  {
   "cell_type": "markdown",
   "id": "d40bb914",
   "metadata": {},
   "source": [
    "### Code 2 "
   ]
  },
  {
   "cell_type": "code",
   "execution_count": 3,
   "id": "5c8a6451",
   "metadata": {},
   "outputs": [
    {
     "ename": "SyntaxError",
     "evalue": "invalid syntax (Temp/ipykernel_10860/3390767707.py, line 1)",
     "output_type": "error",
     "traceback": [
      "\u001b[1;36m  File \u001b[1;32m\"C:\\Users\\MCA15\\AppData\\Local\\Temp/ipykernel_10860/3390767707.py\"\u001b[1;36m, line \u001b[1;32m1\u001b[0m\n\u001b[1;33m    Code 2\u001b[0m\n\u001b[1;37m         ^\u001b[0m\n\u001b[1;31mSyntaxError\u001b[0m\u001b[1;31m:\u001b[0m invalid syntax\n"
     ]
    }
   ],
   "source": [
    "import numpy as np \n",
    "# Creating a matrix A \n",
    "A = np.array([[3, 4, 3], \n",
    "[1, 2, 3], \n",
    "[4, 2, 1]]) \n",
    "print(\"Original Matrix A:\\n\", A) \n",
    "# Performing SVD \n",
    "U, D, VT = np.linalg.svd(A) \n",
    "print(\"\\nMatrix U:\\n\", U) \n",
    "print(\"\\nSingular Values D:\\n\", D) \n",
    "print(\"\\nMatrix VT:\\n\", VT) \n",
    "# Creating a diagonal matrix from D \n",
    "D_matrix = np.zeros((U.shape[0], VT.shape[0])) \n",
    "np.fill_diagonal(D_matrix, D) \n",
    "# Checking if we can remake the original matrix using U, D_matrix, VT \n",
    "A_remake = (U @ D_matrix @ VT) \n",
    "print(\"\\nReconstructed Matrix (REMAKE):\\n\", A_remake)"
   ]
  },
  {
   "cell_type": "code",
   "execution_count": null,
   "id": "c2b1c5d0",
   "metadata": {},
   "outputs": [],
   "source": []
  }
 ],
 "metadata": {
  "kernelspec": {
   "display_name": "Python 3 (ipykernel)",
   "language": "python",
   "name": "python3"
  },
  "language_info": {
   "codemirror_mode": {
    "name": "ipython",
    "version": 3
   },
   "file_extension": ".py",
   "mimetype": "text/x-python",
   "name": "python",
   "nbconvert_exporter": "python",
   "pygments_lexer": "ipython3",
   "version": "3.9.7"
  }
 },
 "nbformat": 4,
 "nbformat_minor": 5
}
